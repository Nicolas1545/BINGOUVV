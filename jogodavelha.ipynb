{
  "nbformat": 4,
  "nbformat_minor": 0,
  "metadata": {
    "colab": {
      "provenance": [],
      "authorship_tag": "ABX9TyM27ELLCi7+rat0U2rtS3Pr",
      "include_colab_link": true
    },
    "kernelspec": {
      "name": "python3",
      "display_name": "Python 3"
    },
    "language_info": {
      "name": "python"
    }
  },
  "cells": [
    {
      "cell_type": "markdown",
      "metadata": {
        "id": "view-in-github",
        "colab_type": "text"
      },
      "source": [
        "<a href=\"https://colab.research.google.com/github/Nicolas1545/BINGOUVV/blob/main/jogodavelha.ipynb\" target=\"_parent\"><img src=\"https://colab.research.google.com/assets/colab-badge.svg\" alt=\"Open In Colab\"/></a>"
      ]
    },
    {
      "cell_type": "code",
      "execution_count": null,
      "metadata": {
        "colab": {
          "base_uri": "https://localhost:8080/"
        },
        "id": "RVx7QeVcefd6",
        "outputId": "c0d5066f-7054-4a4e-97a4-9a216df4c398"
      },
      "outputs": [
        {
          "output_type": "stream",
          "name": "stdout",
          "text": [
            " | | \n",
            "-----\n",
            " | | \n",
            "-----\n",
            " | | \n",
            "-----\n"
          ]
        }
      ],
      "source": [
        "import random\n",
        "\n",
        "class Tabuleiro:\n",
        "    def __init__(self):\n",
        "        self.tabuleiro = [[\" \" for _ in range(3)] for _ in range(3)]\n",
        "\n",
        "    def exibir(self):\n",
        "        for linha in self.tabuleiro:\n",
        "            print(\"|\".join(linha))\n",
        "            print(\"-\" * 5)\n",
        "\n",
        "    def esta_vazio(self, linha, coluna):\n",
        "        return self.tabuleiro[linha][coluna] == \" \"\n",
        "\n",
        "    def marcar(self, linha, coluna, jogador):\n",
        "        self.tabuleiro[linha][coluna] = jogador\n",
        "\n",
        "    def verificar_vitoria(self, jogador):\n",
        "        # Verificar linhas e colunas\n",
        "        for i in range(3):\n",
        "            if all(self.tabuleiro[i][j] == jogador for j in range(3)) or \\\n",
        "               all(self.tabuleiro[j][i] == jogador for j in range(3)):\n",
        "                return True\n",
        "\n",
        "        # Verificar diagonais\n",
        "        if all(self.tabuleiro[i][i] == jogador for i in range(3)) or \\\n",
        "           all(self.tabuleiro[i][2 - i] == jogador for i in range(3)):\n",
        "            return True\n",
        "\n",
        "        return False\n",
        "\n",
        "    def esta_cheio(self):\n",
        "        return all(self.tabuleiro[i][j] != \" \" for i in range(3) for j in range(3))\n",
        "\n",
        "    def obter_posicoes_disponiveis(self):\n",
        "        return [(i, j) for i in range(3) for j in range(3) if self.esta_vazio(i, j)]\n",
        "\n",
        "def obter_jogada_usuario(tabuleiro):\n",
        "    while True:\n",
        "        try:\n",
        "            linha, coluna = map(int, input(\"Digite sua jogada (linha e coluna de 0 a 2): \").split())\n",
        "            if 0 <= linha < 3 and 0 <= coluna < 3 and tabuleiro.esta_vazio(linha, coluna):\n",
        "                return linha, coluna\n",
        "            else:\n",
        "                print(\"Jogada inválida. Tente novamente.\")\n",
        "        except ValueError:\n",
        "            print(\"Entrada inválida. Digite dois números separados por espaço.\")\n",
        "\n",
        "def obter_jogada_cpu(tabuleiro):\n",
        "    # (Lógica da CPU - pode ser aprimorada com estratégias mais avançadas)\n",
        "    posicoes_disponiveis = tabuleiro.obter_posicoes_disponiveis()\n",
        "    return random.choice(posicoes_disponiveis)\n",
        "\n",
        "def jogar():\n",
        "    tabuleiro = Tabuleiro()\n",
        "    jogador_atual = \"X\"\n",
        "\n",
        "    while True:\n",
        "        tabuleiro.exibir()\n",
        "\n",
        "        if jogador_atual == \"X\":\n",
        "            linha, coluna = obter_jogada_usuario(tabuleiro)\n",
        "        else:\n",
        "            print(\"Vez da CPU...\")\n",
        "            linha, coluna = obter_jogada_cpu(tabuleiro)\n",
        "\n",
        "        tabuleiro.marcar(linha, coluna, jogador_atual)\n",
        "\n",
        "        if tabuleiro.verificar_vitoria(jogador_atual):\n",
        "            tabuleiro.exibir()\n",
        "            print(f\"Jogador {jogador_atual} venceu!\")\n",
        "            break\n",
        "        elif tabuleiro.esta_cheio():\n",
        "            tabuleiro.exibir()\n",
        "            print(\"Empate!\")\n",
        "            break\n",
        "\n",
        "        jogador_atual = \"O\" if jogador_atual == \"X\" else \"X\"\n",
        "\n",
        "if __name__ == \"__main__\":\n",
        "    jogar()"
      ]
    }
  ]
}